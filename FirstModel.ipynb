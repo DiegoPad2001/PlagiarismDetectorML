{
 "cells": [
  {
   "cell_type": "code",
   "execution_count": null,
   "metadata": {},
   "outputs": [],
   "source": [
    "import pandas as pd\n",
    "from sklearn.model_selection import train_test_split\n",
    "from sklearn.feature_extraction.text import TfidfVectorizer\n",
    "from sklearn.svm import SVC\n",
    "from sklearn.metrics import classification_report\n",
    "from sklearn.metrics import accuracy_score\n",
    "from sklearn.metrics import plot_confusion_matrix\n",
    "\n",
    "# Cargar los datos\n",
    "data = pd.read_csv('nuevo_labels.csv')\n",
    "\n",
    "# Dividir en características y etiquetas\n",
    "X = data[['sub1', 'sub2']]\n",
    "y = data['verdict']\n",
    "\n",
    "X_train, X_test, y_train, y_test = train_test_split(\n",
    "    X, y, test_size=0.2, random_state=42)\n",
    "\n",
    "# Crear el vectorizador TF-IDF\n",
    "vectorizer = TfidfVectorizer()\n",
    "\n",
    "# Obtener las características TF-IDF de los códigos\n",
    "X_train_features = vectorizer.fit_transform(\n",
    "    X_train['sub1'] + X_train['sub1'])\n",
    "X_test_features = vectorizer.transform(X_test['sub2'] + X_test['sub2'])\n",
    "\n",
    "# Crear y entrenar el clasificador SVM\n",
    "classifier = SVC()\n",
    "classifier.fit(X_train_features, y_train)\n",
    "\n",
    "y_train_pred = classifier.predict(X_train_features)\n",
    "y_test_pred = classifier.predict(X_test_features)\n",
    "\n",
    "# Calcular la precisión del modelo en el conjunto de entrenamiento y prueba\n",
    "train_accuracy = accuracy_score(y_train, y_train_pred)\n",
    "test_accuracy = accuracy_score(y_test, y_test_pred)\n",
    "\n",
    "print(\"Precisión del modelo (Entrenamiento): {:.2f}%\".format(\n",
    "    train_accuracy * 100))\n",
    "print(\"Precisión del modelo (Prueba): {:.2f}%\".format(test_accuracy * 100))\n"
   ]
  }
 ],
 "metadata": {
  "language_info": {
   "name": "python"
  },
  "orig_nbformat": 4
 },
 "nbformat": 4,
 "nbformat_minor": 2
}
